{
 "cells": [
  {
   "cell_type": "markdown",
   "id": "f5bcc303",
   "metadata": {},
   "source": [
    "# 1. Libraries"
   ]
  },
  {
   "cell_type": "code",
   "execution_count": 1,
   "id": "589b6600",
   "metadata": {},
   "outputs": [
    {
     "name": "stdout",
     "output_type": "stream",
     "text": [
      "Requirement already satisfied: psycopg2 in c:\\users\\gnobl\\anaconda3\\lib\\site-packages (2.9.5)\n",
      "Requirement already satisfied: pandas in c:\\users\\gnobl\\anaconda3\\lib\\site-packages (1.4.2)\n",
      "Requirement already satisfied: python-dateutil>=2.8.1 in c:\\users\\gnobl\\anaconda3\\lib\\site-packages (from pandas) (2.8.2)\n",
      "Requirement already satisfied: numpy>=1.18.5 in c:\\users\\gnobl\\anaconda3\\lib\\site-packages (from pandas) (1.21.5)\n",
      "Requirement already satisfied: pytz>=2020.1 in c:\\users\\gnobl\\anaconda3\\lib\\site-packages (from pandas) (2021.3)\n",
      "Requirement already satisfied: six>=1.5 in c:\\users\\gnobl\\anaconda3\\lib\\site-packages (from python-dateutil>=2.8.1->pandas) (1.16.0)\n"
     ]
    }
   ],
   "source": [
    "!pip install psycopg2\n",
    "!pip install pandas"
   ]
  },
  {
   "cell_type": "code",
   "execution_count": 2,
   "id": "3a18c4b5",
   "metadata": {},
   "outputs": [],
   "source": [
    "import psycopg2\n",
    "import pandas as pd"
   ]
  },
  {
   "cell_type": "markdown",
   "id": "dfa8fe87",
   "metadata": {},
   "source": [
    "# 2. Functions"
   ]
  },
  {
   "cell_type": "markdown",
   "id": "5df352e7",
   "metadata": {},
   "source": [
    "## Defining our functions."
   ]
  },
  {
   "cell_type": "code",
   "execution_count": 3,
   "id": "70df9bbb",
   "metadata": {},
   "outputs": [],
   "source": [
    "def create_database():\n",
    "    # connect to default database\n",
    "    conn = psycopg2.connect(\"host=127.0.0.1\" dbname=postgres user=postgres password=root\")\n",
    "    conn.set_session(autocommit=True)\n",
    "    cur = conn.cursor()\n",
    "    \n",
    "    # create sparkify database with UTF8 encoding\n",
    "    cur.execute(\"DROP DATABASE IF EXISTS projectdb\")\n",
    "    cur.execute(\"CREATE DATABASE projectdb\")\n",
    "    \n",
    "    # close connection to default database\n",
    "    conn.close()\n",
    "    \n",
    "    # connect to sparkify database\n",
    "    conn = psycopg2.connect(\"host=127.0.0.1 dbname=projectdb user=postgres password=root\")\n",
    "    cur = conn.cursor()\n",
    "    \n",
    "    return cur, conn"
   ]
  },
  {
   "cell_type": "code",
   "execution_count": 4,
   "id": "c0103734",
   "metadata": {},
   "outputs": [],
   "source": [
    "def drop_tables(cur, conn):\n",
    "    for query in drop_table_queries:\n",
    "        cur.execute(query)\n",
    "        conn.commit()"
   ]
  },
  {
   "cell_type": "code",
   "execution_count": 5,
   "id": "87282bc9",
   "metadata": {},
   "outputs": [],
   "source": [
    "def create_tables(cur, conn):\n",
    "    for query in create_table_queries:\n",
    "        cur.execute(query)\n",
    "        conn.commit()"
   ]
  },
  {
   "cell_type": "markdown",
   "id": "2d4644f9",
   "metadata": {},
   "source": [
    "# 3. Cleaning"
   ]
  },
  {
   "cell_type": "markdown",
   "id": "27467585",
   "metadata": {},
   "source": [
    "## Cleaning our first table."
   ]
  },
  {
   "cell_type": "code",
   "execution_count": 6,
   "id": "1279f17d",
   "metadata": {},
   "outputs": [],
   "source": [
    "accounts_country = pd.read_csv(\"data/Wealth-AccountsCountry.csv\")"
   ]
  },
  {
   "cell_type": "code",
   "execution_count": 7,
   "id": "82111c8b",
   "metadata": {},
   "outputs": [
    {
     "data": {
      "text/html": [
       "<div>\n",
       "<style scoped>\n",
       "    .dataframe tbody tr th:only-of-type {\n",
       "        vertical-align: middle;\n",
       "    }\n",
       "\n",
       "    .dataframe tbody tr th {\n",
       "        vertical-align: top;\n",
       "    }\n",
       "\n",
       "    .dataframe thead th {\n",
       "        text-align: right;\n",
       "    }\n",
       "</style>\n",
       "<table border=\"1\" class=\"dataframe\">\n",
       "  <thead>\n",
       "    <tr style=\"text-align: right;\">\n",
       "      <th></th>\n",
       "      <th>Code</th>\n",
       "      <th>Long Name</th>\n",
       "      <th>Income Group</th>\n",
       "      <th>Region</th>\n",
       "      <th>Lending category</th>\n",
       "      <th>Other groups</th>\n",
       "      <th>Currency Unit</th>\n",
       "      <th>Latest population census</th>\n",
       "      <th>Latest household survey</th>\n",
       "      <th>Special Notes</th>\n",
       "      <th>...</th>\n",
       "      <th>Source of most recent Income and expenditure data</th>\n",
       "      <th>Vital registration complete</th>\n",
       "      <th>Latest agricultural census</th>\n",
       "      <th>Latest industrial data</th>\n",
       "      <th>Latest trade data</th>\n",
       "      <th>Latest water withdrawal data</th>\n",
       "      <th>2-alpha code</th>\n",
       "      <th>WB-2 code</th>\n",
       "      <th>Table Name</th>\n",
       "      <th>Short Name</th>\n",
       "    </tr>\n",
       "  </thead>\n",
       "  <tbody>\n",
       "    <tr>\n",
       "      <th>0</th>\n",
       "      <td>ALB</td>\n",
       "      <td>Republic of Albania</td>\n",
       "      <td>Upper middle income</td>\n",
       "      <td>Europe &amp; Central Asia</td>\n",
       "      <td>IBRD</td>\n",
       "      <td>NaN</td>\n",
       "      <td>Albanian lek</td>\n",
       "      <td>2020 (expected)</td>\n",
       "      <td>Demographic and Health Survey, 2017/18</td>\n",
       "      <td>NaN</td>\n",
       "      <td>...</td>\n",
       "      <td>Living Standards Measurement Study Survey (LSM...</td>\n",
       "      <td>Yes</td>\n",
       "      <td>2012</td>\n",
       "      <td>2013.0</td>\n",
       "      <td>2018.0</td>\n",
       "      <td>2006.0</td>\n",
       "      <td>AL</td>\n",
       "      <td>AL</td>\n",
       "      <td>Albania</td>\n",
       "      <td>Albania</td>\n",
       "    </tr>\n",
       "    <tr>\n",
       "      <th>1</th>\n",
       "      <td>ARG</td>\n",
       "      <td>Argentine Republic</td>\n",
       "      <td>Upper middle income</td>\n",
       "      <td>Latin America &amp; Caribbean</td>\n",
       "      <td>IBRD</td>\n",
       "      <td>NaN</td>\n",
       "      <td>Argentine peso</td>\n",
       "      <td>2020 (expected)</td>\n",
       "      <td>Multiple Indicator Cluster Survey, 2019/20</td>\n",
       "      <td>NaN</td>\n",
       "      <td>...</td>\n",
       "      <td>Integrated household survey (IHS), 2016</td>\n",
       "      <td>Yes</td>\n",
       "      <td>2008</td>\n",
       "      <td>2002.0</td>\n",
       "      <td>2018.0</td>\n",
       "      <td>2011.0</td>\n",
       "      <td>AR</td>\n",
       "      <td>AR</td>\n",
       "      <td>Argentina</td>\n",
       "      <td>Argentina</td>\n",
       "    </tr>\n",
       "    <tr>\n",
       "      <th>2</th>\n",
       "      <td>ARM</td>\n",
       "      <td>Republic of Armenia</td>\n",
       "      <td>Upper middle income</td>\n",
       "      <td>Europe &amp; Central Asia</td>\n",
       "      <td>IBRD</td>\n",
       "      <td>NaN</td>\n",
       "      <td>Armenian dram</td>\n",
       "      <td>2020 (expected)</td>\n",
       "      <td>Demographic and Health Survey, 2015/16</td>\n",
       "      <td>NaN</td>\n",
       "      <td>...</td>\n",
       "      <td>Integrated household survey (IHS), 2016</td>\n",
       "      <td>Yes</td>\n",
       "      <td>2014</td>\n",
       "      <td>NaN</td>\n",
       "      <td>2018.0</td>\n",
       "      <td>2012.0</td>\n",
       "      <td>AM</td>\n",
       "      <td>AM</td>\n",
       "      <td>Armenia</td>\n",
       "      <td>Armenia</td>\n",
       "    </tr>\n",
       "    <tr>\n",
       "      <th>3</th>\n",
       "      <td>AUS</td>\n",
       "      <td>Commonwealth of Australia</td>\n",
       "      <td>High income</td>\n",
       "      <td>East Asia &amp; Pacific</td>\n",
       "      <td>NaN</td>\n",
       "      <td>NaN</td>\n",
       "      <td>Australian dollar</td>\n",
       "      <td>2016</td>\n",
       "      <td>NaN</td>\n",
       "      <td>Fiscal year end: June 30; reporting period for...</td>\n",
       "      <td>...</td>\n",
       "      <td>Expenditure survey/budget survey (ES/BS), 2010</td>\n",
       "      <td>Yes</td>\n",
       "      <td>2015-2016</td>\n",
       "      <td>2013.0</td>\n",
       "      <td>2018.0</td>\n",
       "      <td>2013.0</td>\n",
       "      <td>AU</td>\n",
       "      <td>AU</td>\n",
       "      <td>Australia</td>\n",
       "      <td>Australia</td>\n",
       "    </tr>\n",
       "    <tr>\n",
       "      <th>4</th>\n",
       "      <td>AUT</td>\n",
       "      <td>Republic of Austria</td>\n",
       "      <td>High income</td>\n",
       "      <td>Europe &amp; Central Asia</td>\n",
       "      <td>NaN</td>\n",
       "      <td>Euro area</td>\n",
       "      <td>Euro</td>\n",
       "      <td>2011. Population figures compiled from adminis...</td>\n",
       "      <td>NaN</td>\n",
       "      <td>A simple multiplier is used to convert the nat...</td>\n",
       "      <td>...</td>\n",
       "      <td>Income survey (IS), 2015</td>\n",
       "      <td>Yes</td>\n",
       "      <td>2010</td>\n",
       "      <td>2014.0</td>\n",
       "      <td>2018.0</td>\n",
       "      <td>2010.0</td>\n",
       "      <td>AT</td>\n",
       "      <td>AT</td>\n",
       "      <td>Austria</td>\n",
       "      <td>Austria</td>\n",
       "    </tr>\n",
       "  </tbody>\n",
       "</table>\n",
       "<p>5 rows × 31 columns</p>\n",
       "</div>"
      ],
      "text/plain": [
       "  Code                  Long Name         Income Group  \\\n",
       "0  ALB        Republic of Albania  Upper middle income   \n",
       "1  ARG         Argentine Republic  Upper middle income   \n",
       "2  ARM        Republic of Armenia  Upper middle income   \n",
       "3  AUS  Commonwealth of Australia          High income   \n",
       "4  AUT        Republic of Austria          High income   \n",
       "\n",
       "                      Region Lending category Other groups      Currency Unit  \\\n",
       "0      Europe & Central Asia             IBRD          NaN       Albanian lek   \n",
       "1  Latin America & Caribbean             IBRD          NaN     Argentine peso   \n",
       "2      Europe & Central Asia             IBRD          NaN      Armenian dram   \n",
       "3        East Asia & Pacific              NaN          NaN  Australian dollar   \n",
       "4      Europe & Central Asia              NaN    Euro area               Euro   \n",
       "\n",
       "                            Latest population census  \\\n",
       "0                                    2020 (expected)   \n",
       "1                                    2020 (expected)   \n",
       "2                                    2020 (expected)   \n",
       "3                                               2016   \n",
       "4  2011. Population figures compiled from adminis...   \n",
       "\n",
       "                      Latest household survey  \\\n",
       "0      Demographic and Health Survey, 2017/18   \n",
       "1  Multiple Indicator Cluster Survey, 2019/20   \n",
       "2      Demographic and Health Survey, 2015/16   \n",
       "3                                         NaN   \n",
       "4                                         NaN   \n",
       "\n",
       "                                       Special Notes  ...  \\\n",
       "0                                                NaN  ...   \n",
       "1                                                NaN  ...   \n",
       "2                                                NaN  ...   \n",
       "3  Fiscal year end: June 30; reporting period for...  ...   \n",
       "4  A simple multiplier is used to convert the nat...  ...   \n",
       "\n",
       "   Source of most recent Income and expenditure data  \\\n",
       "0  Living Standards Measurement Study Survey (LSM...   \n",
       "1            Integrated household survey (IHS), 2016   \n",
       "2            Integrated household survey (IHS), 2016   \n",
       "3     Expenditure survey/budget survey (ES/BS), 2010   \n",
       "4                           Income survey (IS), 2015   \n",
       "\n",
       "   Vital registration complete Latest agricultural census  \\\n",
       "0                          Yes                       2012   \n",
       "1                          Yes                       2008   \n",
       "2                          Yes                       2014   \n",
       "3                          Yes                  2015-2016   \n",
       "4                          Yes                       2010   \n",
       "\n",
       "  Latest industrial data Latest trade data Latest water withdrawal data  \\\n",
       "0                 2013.0            2018.0                       2006.0   \n",
       "1                 2002.0            2018.0                       2011.0   \n",
       "2                    NaN            2018.0                       2012.0   \n",
       "3                 2013.0            2018.0                       2013.0   \n",
       "4                 2014.0            2018.0                       2010.0   \n",
       "\n",
       "  2-alpha code WB-2 code Table Name Short Name  \n",
       "0           AL        AL    Albania    Albania  \n",
       "1           AR        AR  Argentina  Argentina  \n",
       "2           AM        AM    Armenia    Armenia  \n",
       "3           AU        AU  Australia  Australia  \n",
       "4           AT        AT    Austria    Austria  \n",
       "\n",
       "[5 rows x 31 columns]"
      ]
     },
     "execution_count": 7,
     "metadata": {},
     "output_type": "execute_result"
    }
   ],
   "source": [
    "accounts_country.head()"
   ]
  },
  {
   "cell_type": "code",
   "execution_count": 8,
   "id": "7b721722",
   "metadata": {},
   "outputs": [],
   "source": [
    "accounts_country = accounts_country[['Code', 'Short Name', 'Table Name', 'Long Name', 'Currency Unit']]"
   ]
  },
  {
   "cell_type": "code",
   "execution_count": 9,
   "id": "b88809a2",
   "metadata": {},
   "outputs": [],
   "source": [
    "accounts_country = accounts_country.rename(columns={'Code': 'Country Code'})"
   ]
  },
  {
   "cell_type": "code",
   "execution_count": 10,
   "id": "3bf8daab",
   "metadata": {},
   "outputs": [],
   "source": [
    "accounts_country = accounts_country.drop_duplicates(subset=['Country Code'])"
   ]
  },
  {
   "cell_type": "code",
   "execution_count": 11,
   "id": "4f2125d7",
   "metadata": {},
   "outputs": [
    {
     "data": {
      "text/html": [
       "<div>\n",
       "<style scoped>\n",
       "    .dataframe tbody tr th:only-of-type {\n",
       "        vertical-align: middle;\n",
       "    }\n",
       "\n",
       "    .dataframe tbody tr th {\n",
       "        vertical-align: top;\n",
       "    }\n",
       "\n",
       "    .dataframe thead th {\n",
       "        text-align: right;\n",
       "    }\n",
       "</style>\n",
       "<table border=\"1\" class=\"dataframe\">\n",
       "  <thead>\n",
       "    <tr style=\"text-align: right;\">\n",
       "      <th></th>\n",
       "      <th>Country Code</th>\n",
       "      <th>Short Name</th>\n",
       "      <th>Table Name</th>\n",
       "      <th>Long Name</th>\n",
       "      <th>Currency Unit</th>\n",
       "    </tr>\n",
       "  </thead>\n",
       "  <tbody>\n",
       "    <tr>\n",
       "      <th>0</th>\n",
       "      <td>ALB</td>\n",
       "      <td>Albania</td>\n",
       "      <td>Albania</td>\n",
       "      <td>Republic of Albania</td>\n",
       "      <td>Albanian lek</td>\n",
       "    </tr>\n",
       "    <tr>\n",
       "      <th>1</th>\n",
       "      <td>ARG</td>\n",
       "      <td>Argentina</td>\n",
       "      <td>Argentina</td>\n",
       "      <td>Argentine Republic</td>\n",
       "      <td>Argentine peso</td>\n",
       "    </tr>\n",
       "    <tr>\n",
       "      <th>2</th>\n",
       "      <td>ARM</td>\n",
       "      <td>Armenia</td>\n",
       "      <td>Armenia</td>\n",
       "      <td>Republic of Armenia</td>\n",
       "      <td>Armenian dram</td>\n",
       "    </tr>\n",
       "    <tr>\n",
       "      <th>3</th>\n",
       "      <td>AUS</td>\n",
       "      <td>Australia</td>\n",
       "      <td>Australia</td>\n",
       "      <td>Commonwealth of Australia</td>\n",
       "      <td>Australian dollar</td>\n",
       "    </tr>\n",
       "    <tr>\n",
       "      <th>4</th>\n",
       "      <td>AUT</td>\n",
       "      <td>Austria</td>\n",
       "      <td>Austria</td>\n",
       "      <td>Republic of Austria</td>\n",
       "      <td>Euro</td>\n",
       "    </tr>\n",
       "  </tbody>\n",
       "</table>\n",
       "</div>"
      ],
      "text/plain": [
       "  Country Code Short Name Table Name                  Long Name  \\\n",
       "0          ALB    Albania    Albania        Republic of Albania   \n",
       "1          ARG  Argentina  Argentina         Argentine Republic   \n",
       "2          ARM    Armenia    Armenia        Republic of Armenia   \n",
       "3          AUS  Australia  Australia  Commonwealth of Australia   \n",
       "4          AUT    Austria    Austria        Republic of Austria   \n",
       "\n",
       "       Currency Unit  \n",
       "0       Albanian lek  \n",
       "1     Argentine peso  \n",
       "2      Armenian dram  \n",
       "3  Australian dollar  \n",
       "4               Euro  "
      ]
     },
     "execution_count": 11,
     "metadata": {},
     "output_type": "execute_result"
    }
   ],
   "source": [
    "accounts_country.head()"
   ]
  },
  {
   "cell_type": "markdown",
   "id": "c4e832bc",
   "metadata": {},
   "source": [
    "## Cleaning our second table."
   ]
  },
  {
   "cell_type": "code",
   "execution_count": 12,
   "id": "205aa282",
   "metadata": {},
   "outputs": [],
   "source": [
    "accounts_data = pd.read_csv(\"data/Wealth-AccountData.csv\")"
   ]
  },
  {
   "cell_type": "code",
   "execution_count": 13,
   "id": "c4d736dc",
   "metadata": {},
   "outputs": [
    {
     "data": {
      "text/html": [
       "<div>\n",
       "<style scoped>\n",
       "    .dataframe tbody tr th:only-of-type {\n",
       "        vertical-align: middle;\n",
       "    }\n",
       "\n",
       "    .dataframe tbody tr th {\n",
       "        vertical-align: top;\n",
       "    }\n",
       "\n",
       "    .dataframe thead th {\n",
       "        text-align: right;\n",
       "    }\n",
       "</style>\n",
       "<table border=\"1\" class=\"dataframe\">\n",
       "  <thead>\n",
       "    <tr style=\"text-align: right;\">\n",
       "      <th></th>\n",
       "      <th>Country Name</th>\n",
       "      <th>Country Code</th>\n",
       "      <th>Series Name</th>\n",
       "      <th>Series Code</th>\n",
       "      <th>1995 [YR1995]</th>\n",
       "      <th>1996 [YR1996]</th>\n",
       "      <th>1997 [YR1997]</th>\n",
       "      <th>1998 [YR1998]</th>\n",
       "      <th>1999 [YR1999]</th>\n",
       "      <th>2000 [YR2000]</th>\n",
       "      <th>...</th>\n",
       "      <th>2009 [YR2009]</th>\n",
       "      <th>2010 [YR2010]</th>\n",
       "      <th>2011 [YR2011]</th>\n",
       "      <th>2012 [YR2012]</th>\n",
       "      <th>2013 [YR2013]</th>\n",
       "      <th>2014 [YR2014]</th>\n",
       "      <th>2015 [YR2015]</th>\n",
       "      <th>2016 [YR2016]</th>\n",
       "      <th>2017 [YR2017]</th>\n",
       "      <th>2018 [YR2018]</th>\n",
       "    </tr>\n",
       "  </thead>\n",
       "  <tbody>\n",
       "    <tr>\n",
       "      <th>0</th>\n",
       "      <td>Albania</td>\n",
       "      <td>ALB</td>\n",
       "      <td>Human capital (constant 2018 US$)</td>\n",
       "      <td>NW.HCA.TO</td>\n",
       "      <td>4.49E+10</td>\n",
       "      <td>4.34E+10</td>\n",
       "      <td>3.71E+10</td>\n",
       "      <td>3.88E+10</td>\n",
       "      <td>4.22E+10</td>\n",
       "      <td>4.36E+10</td>\n",
       "      <td>...</td>\n",
       "      <td>6.610000e+10</td>\n",
       "      <td>6.810000e+10</td>\n",
       "      <td>6.850000e+10</td>\n",
       "      <td>7.080000e+10</td>\n",
       "      <td>7.160000e+10</td>\n",
       "      <td>7.250000e+10</td>\n",
       "      <td>7.370000e+10</td>\n",
       "      <td>7.57E+10</td>\n",
       "      <td>7.80E+10</td>\n",
       "      <td>8.12E+10</td>\n",
       "    </tr>\n",
       "    <tr>\n",
       "      <th>1</th>\n",
       "      <td>Albania</td>\n",
       "      <td>ALB</td>\n",
       "      <td>Human capital per capita (constant 2018 US$)</td>\n",
       "      <td>NW.HCA.PC</td>\n",
       "      <td>14072.79</td>\n",
       "      <td>13708.99</td>\n",
       "      <td>11794.1</td>\n",
       "      <td>12399.48</td>\n",
       "      <td>13573.26</td>\n",
       "      <td>14118.13</td>\n",
       "      <td>...</td>\n",
       "      <td>2.258200e+04</td>\n",
       "      <td>2.336286e+04</td>\n",
       "      <td>2.359058e+04</td>\n",
       "      <td>2.439397e+04</td>\n",
       "      <td>2.473162e+04</td>\n",
       "      <td>2.509002e+04</td>\n",
       "      <td>2.559371e+04</td>\n",
       "      <td>26326.26</td>\n",
       "      <td>27160.86</td>\n",
       "      <td>28333.68</td>\n",
       "    </tr>\n",
       "    <tr>\n",
       "      <th>2</th>\n",
       "      <td>Albania</td>\n",
       "      <td>ALB</td>\n",
       "      <td>Human capital per capita, employed female (con...</td>\n",
       "      <td>NW.HCA.FEMP.PC</td>\n",
       "      <td>3468.858</td>\n",
       "      <td>3355.549</td>\n",
       "      <td>2868.997</td>\n",
       "      <td>3013.391</td>\n",
       "      <td>3259.893</td>\n",
       "      <td>3424.007</td>\n",
       "      <td>...</td>\n",
       "      <td>2.825336e+03</td>\n",
       "      <td>2.889150e+03</td>\n",
       "      <td>2.848523e+03</td>\n",
       "      <td>2.930234e+03</td>\n",
       "      <td>2.954273e+03</td>\n",
       "      <td>2.957420e+03</td>\n",
       "      <td>2.987545e+03</td>\n",
       "      <td>3072.504</td>\n",
       "      <td>3178.417</td>\n",
       "      <td>3312.927</td>\n",
       "    </tr>\n",
       "    <tr>\n",
       "      <th>3</th>\n",
       "      <td>Albania</td>\n",
       "      <td>ALB</td>\n",
       "      <td>Human capital per capita, employed male (const...</td>\n",
       "      <td>NW.HCA.MEMP.PC</td>\n",
       "      <td>6507.931</td>\n",
       "      <td>6353.737</td>\n",
       "      <td>5466.692</td>\n",
       "      <td>5901.072</td>\n",
       "      <td>6492.73</td>\n",
       "      <td>6872.019</td>\n",
       "      <td>...</td>\n",
       "      <td>1.525319e+04</td>\n",
       "      <td>1.578992e+04</td>\n",
       "      <td>1.579854e+04</td>\n",
       "      <td>1.647360e+04</td>\n",
       "      <td>1.681013e+04</td>\n",
       "      <td>1.699138e+04</td>\n",
       "      <td>1.730701e+04</td>\n",
       "      <td>17817.1</td>\n",
       "      <td>18445.94</td>\n",
       "      <td>19245.19</td>\n",
       "    </tr>\n",
       "    <tr>\n",
       "      <th>4</th>\n",
       "      <td>Albania</td>\n",
       "      <td>ALB</td>\n",
       "      <td>Human capital per capita, female (constant 201...</td>\n",
       "      <td>NW.HCA.FEMA.PC</td>\n",
       "      <td>4893.006</td>\n",
       "      <td>4737.857</td>\n",
       "      <td>4059.321</td>\n",
       "      <td>4191.445</td>\n",
       "      <td>4536.972</td>\n",
       "      <td>4695.071</td>\n",
       "      <td>...</td>\n",
       "      <td>3.529144e+03</td>\n",
       "      <td>3.613606e+03</td>\n",
       "      <td>3.603694e+03</td>\n",
       "      <td>3.683810e+03</td>\n",
       "      <td>3.696744e+03</td>\n",
       "      <td>3.719608e+03</td>\n",
       "      <td>3.767628e+03</td>\n",
       "      <td>3872.142</td>\n",
       "      <td>3992.188</td>\n",
       "      <td>4161.137</td>\n",
       "    </tr>\n",
       "  </tbody>\n",
       "</table>\n",
       "<p>5 rows × 28 columns</p>\n",
       "</div>"
      ],
      "text/plain": [
       "  Country Name Country Code  \\\n",
       "0      Albania          ALB   \n",
       "1      Albania          ALB   \n",
       "2      Albania          ALB   \n",
       "3      Albania          ALB   \n",
       "4      Albania          ALB   \n",
       "\n",
       "                                         Series Name     Series Code  \\\n",
       "0                  Human capital (constant 2018 US$)       NW.HCA.TO   \n",
       "1       Human capital per capita (constant 2018 US$)       NW.HCA.PC   \n",
       "2  Human capital per capita, employed female (con...  NW.HCA.FEMP.PC   \n",
       "3  Human capital per capita, employed male (const...  NW.HCA.MEMP.PC   \n",
       "4  Human capital per capita, female (constant 201...  NW.HCA.FEMA.PC   \n",
       "\n",
       "  1995 [YR1995] 1996 [YR1996] 1997 [YR1997] 1998 [YR1998] 1999 [YR1999]  \\\n",
       "0      4.49E+10      4.34E+10      3.71E+10      3.88E+10      4.22E+10   \n",
       "1      14072.79      13708.99       11794.1      12399.48      13573.26   \n",
       "2      3468.858      3355.549      2868.997      3013.391      3259.893   \n",
       "3      6507.931      6353.737      5466.692      5901.072       6492.73   \n",
       "4      4893.006      4737.857      4059.321      4191.445      4536.972   \n",
       "\n",
       "  2000 [YR2000]  ... 2009 [YR2009] 2010 [YR2010] 2011 [YR2011] 2012 [YR2012]  \\\n",
       "0      4.36E+10  ...  6.610000e+10  6.810000e+10  6.850000e+10  7.080000e+10   \n",
       "1      14118.13  ...  2.258200e+04  2.336286e+04  2.359058e+04  2.439397e+04   \n",
       "2      3424.007  ...  2.825336e+03  2.889150e+03  2.848523e+03  2.930234e+03   \n",
       "3      6872.019  ...  1.525319e+04  1.578992e+04  1.579854e+04  1.647360e+04   \n",
       "4      4695.071  ...  3.529144e+03  3.613606e+03  3.603694e+03  3.683810e+03   \n",
       "\n",
       "   2013 [YR2013]  2014 [YR2014]  2015 [YR2015]  2016 [YR2016]  2017 [YR2017]  \\\n",
       "0   7.160000e+10   7.250000e+10   7.370000e+10       7.57E+10       7.80E+10   \n",
       "1   2.473162e+04   2.509002e+04   2.559371e+04       26326.26       27160.86   \n",
       "2   2.954273e+03   2.957420e+03   2.987545e+03       3072.504       3178.417   \n",
       "3   1.681013e+04   1.699138e+04   1.730701e+04        17817.1       18445.94   \n",
       "4   3.696744e+03   3.719608e+03   3.767628e+03       3872.142       3992.188   \n",
       "\n",
       "   2018 [YR2018]  \n",
       "0       8.12E+10  \n",
       "1       28333.68  \n",
       "2       3312.927  \n",
       "3       19245.19  \n",
       "4       4161.137  \n",
       "\n",
       "[5 rows x 28 columns]"
      ]
     },
     "execution_count": 13,
     "metadata": {},
     "output_type": "execute_result"
    }
   ],
   "source": [
    "accounts_data.head()"
   ]
  },
  {
   "cell_type": "code",
   "execution_count": 14,
   "id": "1d1e66a4",
   "metadata": {},
   "outputs": [
    {
     "data": {
      "text/plain": [
       "Index(['Country Name', 'Country Code', 'Series Name', 'Series Code',\n",
       "       '1995 [YR1995]', '1996 [YR1996]', '1997 [YR1997]', '1998 [YR1998]',\n",
       "       '1999 [YR1999]', '2000 [YR2000]', '2001 [YR2001]', '2002 [YR2002]',\n",
       "       '2003 [YR2003]', '2004 [YR2004]', '2005 [YR2005]', '2006 [YR2006]',\n",
       "       '2007 [YR2007]', '2008 [YR2008]', '2009 [YR2009]', '2010 [YR2010]',\n",
       "       '2011 [YR2011]', '2012 [YR2012]', '2013 [YR2013]', '2014 [YR2014]',\n",
       "       '2015 [YR2015]', '2016 [YR2016]', '2017 [YR2017]', '2018 [YR2018]'],\n",
       "      dtype='object')"
      ]
     },
     "execution_count": 14,
     "metadata": {},
     "output_type": "execute_result"
    }
   ],
   "source": [
    "accounts_data.columns"
   ]
  },
  {
   "cell_type": "code",
   "execution_count": 15,
   "id": "9ba06354",
   "metadata": {},
   "outputs": [],
   "source": [
    "accounts_data = accounts_data.drop(['1999 [YR1999]', '2000 [YR2000]', '2001 [YR2001]', '2002 [YR2002]', '2003 [YR2003]', '2004 [YR2004]', '2005 [YR2005]', '2006 [YR2006]', '2007 [YR2007]', '2008 [YR2008]', '2009 [YR2009]', '2010 [YR2010]', '2011 [YR2011]', '2012 [YR2012]', '2013 [YR2013]', '2014 [YR2014]', '2015 [YR2015]', '2016 [YR2016]', '2017 [YR2017]', '2018 [YR2018]'], axis=1)"
   ]
  },
  {
   "cell_type": "code",
   "execution_count": 16,
   "id": "505eb221",
   "metadata": {},
   "outputs": [],
   "source": [
    "accounts_data = accounts_data.rename(columns={'1995 [YR1995]': 'year_1995', '1996 [YR1996]': 'year_1996', '1997 [YR1997]': 'year_1997', '1998 [YR1998]': 'year_1998'})"
   ]
  },
  {
   "cell_type": "code",
   "execution_count": 17,
   "id": "0b2372e9",
   "metadata": {},
   "outputs": [],
   "source": [
    "for col in ['year_1995', 'year_1996', 'year_1997', 'year_1998']:\n",
    "    accounts_data[col] = pd.to_numeric(accounts_data[col], errors='coerce')"
   ]
  },
  {
   "cell_type": "code",
   "execution_count": 18,
   "id": "4fd9bedd",
   "metadata": {},
   "outputs": [
    {
     "data": {
      "text/html": [
       "<div>\n",
       "<style scoped>\n",
       "    .dataframe tbody tr th:only-of-type {\n",
       "        vertical-align: middle;\n",
       "    }\n",
       "\n",
       "    .dataframe tbody tr th {\n",
       "        vertical-align: top;\n",
       "    }\n",
       "\n",
       "    .dataframe thead th {\n",
       "        text-align: right;\n",
       "    }\n",
       "</style>\n",
       "<table border=\"1\" class=\"dataframe\">\n",
       "  <thead>\n",
       "    <tr style=\"text-align: right;\">\n",
       "      <th></th>\n",
       "      <th>Country Name</th>\n",
       "      <th>Country Code</th>\n",
       "      <th>Series Name</th>\n",
       "      <th>Series Code</th>\n",
       "      <th>year_1995</th>\n",
       "      <th>year_1996</th>\n",
       "      <th>year_1997</th>\n",
       "      <th>year_1998</th>\n",
       "    </tr>\n",
       "  </thead>\n",
       "  <tbody>\n",
       "    <tr>\n",
       "      <th>0</th>\n",
       "      <td>Albania</td>\n",
       "      <td>ALB</td>\n",
       "      <td>Human capital (constant 2018 US$)</td>\n",
       "      <td>NW.HCA.TO</td>\n",
       "      <td>4.490000e+10</td>\n",
       "      <td>4.340000e+10</td>\n",
       "      <td>3.710000e+10</td>\n",
       "      <td>3.880000e+10</td>\n",
       "    </tr>\n",
       "    <tr>\n",
       "      <th>1</th>\n",
       "      <td>Albania</td>\n",
       "      <td>ALB</td>\n",
       "      <td>Human capital per capita (constant 2018 US$)</td>\n",
       "      <td>NW.HCA.PC</td>\n",
       "      <td>1.407279e+04</td>\n",
       "      <td>1.370899e+04</td>\n",
       "      <td>1.179410e+04</td>\n",
       "      <td>1.239948e+04</td>\n",
       "    </tr>\n",
       "    <tr>\n",
       "      <th>2</th>\n",
       "      <td>Albania</td>\n",
       "      <td>ALB</td>\n",
       "      <td>Human capital per capita, employed female (con...</td>\n",
       "      <td>NW.HCA.FEMP.PC</td>\n",
       "      <td>3.468858e+03</td>\n",
       "      <td>3.355549e+03</td>\n",
       "      <td>2.868997e+03</td>\n",
       "      <td>3.013391e+03</td>\n",
       "    </tr>\n",
       "    <tr>\n",
       "      <th>3</th>\n",
       "      <td>Albania</td>\n",
       "      <td>ALB</td>\n",
       "      <td>Human capital per capita, employed male (const...</td>\n",
       "      <td>NW.HCA.MEMP.PC</td>\n",
       "      <td>6.507931e+03</td>\n",
       "      <td>6.353737e+03</td>\n",
       "      <td>5.466692e+03</td>\n",
       "      <td>5.901072e+03</td>\n",
       "    </tr>\n",
       "    <tr>\n",
       "      <th>4</th>\n",
       "      <td>Albania</td>\n",
       "      <td>ALB</td>\n",
       "      <td>Human capital per capita, female (constant 201...</td>\n",
       "      <td>NW.HCA.FEMA.PC</td>\n",
       "      <td>4.893006e+03</td>\n",
       "      <td>4.737857e+03</td>\n",
       "      <td>4.059321e+03</td>\n",
       "      <td>4.191445e+03</td>\n",
       "    </tr>\n",
       "  </tbody>\n",
       "</table>\n",
       "</div>"
      ],
      "text/plain": [
       "  Country Name Country Code  \\\n",
       "0      Albania          ALB   \n",
       "1      Albania          ALB   \n",
       "2      Albania          ALB   \n",
       "3      Albania          ALB   \n",
       "4      Albania          ALB   \n",
       "\n",
       "                                         Series Name     Series Code  \\\n",
       "0                  Human capital (constant 2018 US$)       NW.HCA.TO   \n",
       "1       Human capital per capita (constant 2018 US$)       NW.HCA.PC   \n",
       "2  Human capital per capita, employed female (con...  NW.HCA.FEMP.PC   \n",
       "3  Human capital per capita, employed male (const...  NW.HCA.MEMP.PC   \n",
       "4  Human capital per capita, female (constant 201...  NW.HCA.FEMA.PC   \n",
       "\n",
       "      year_1995     year_1996     year_1997     year_1998  \n",
       "0  4.490000e+10  4.340000e+10  3.710000e+10  3.880000e+10  \n",
       "1  1.407279e+04  1.370899e+04  1.179410e+04  1.239948e+04  \n",
       "2  3.468858e+03  3.355549e+03  2.868997e+03  3.013391e+03  \n",
       "3  6.507931e+03  6.353737e+03  5.466692e+03  5.901072e+03  \n",
       "4  4.893006e+03  4.737857e+03  4.059321e+03  4.191445e+03  "
      ]
     },
     "execution_count": 18,
     "metadata": {},
     "output_type": "execute_result"
    }
   ],
   "source": [
    "accounts_data.head()"
   ]
  },
  {
   "cell_type": "markdown",
   "id": "7a84d23d",
   "metadata": {},
   "source": [
    "## Cleaning our third table."
   ]
  },
  {
   "cell_type": "code",
   "execution_count": 19,
   "id": "54aa4b56",
   "metadata": {},
   "outputs": [],
   "source": [
    "accounts_series = pd.read_csv(\"data/Wealth-AccountSeries.csv\")"
   ]
  },
  {
   "cell_type": "code",
   "execution_count": 20,
   "id": "20491e15",
   "metadata": {},
   "outputs": [
    {
     "data": {
      "text/plain": [
       "Index(['Code', 'Indicator Name', 'Long definition', 'Source', 'Topic',\n",
       "       'Unit of measure', 'Periodicity', 'Reference period',\n",
       "       'Statistical concept and methodology', 'Previous Indicator Code',\n",
       "       'Previous Indicator Name'],\n",
       "      dtype='object')"
      ]
     },
     "execution_count": 20,
     "metadata": {},
     "output_type": "execute_result"
    }
   ],
   "source": [
    "accounts_series.columns"
   ]
  },
  {
   "cell_type": "code",
   "execution_count": 21,
   "id": "dcc22f5a",
   "metadata": {},
   "outputs": [],
   "source": [
    "accounts_series = accounts_series[['Code', 'Topic', 'Indicator Name', 'Long definition']]"
   ]
  },
  {
   "cell_type": "code",
   "execution_count": 22,
   "id": "8386fe69",
   "metadata": {},
   "outputs": [],
   "source": [
    "accounts_series = accounts_series.rename(columns={'Code': 'Series Code'})"
   ]
  },
  {
   "cell_type": "code",
   "execution_count": 23,
   "id": "cde5d584",
   "metadata": {},
   "outputs": [
    {
     "data": {
      "text/html": [
       "<div>\n",
       "<style scoped>\n",
       "    .dataframe tbody tr th:only-of-type {\n",
       "        vertical-align: middle;\n",
       "    }\n",
       "\n",
       "    .dataframe tbody tr th {\n",
       "        vertical-align: top;\n",
       "    }\n",
       "\n",
       "    .dataframe thead th {\n",
       "        text-align: right;\n",
       "    }\n",
       "</style>\n",
       "<table border=\"1\" class=\"dataframe\">\n",
       "  <thead>\n",
       "    <tr style=\"text-align: right;\">\n",
       "      <th></th>\n",
       "      <th>Series Code</th>\n",
       "      <th>Topic</th>\n",
       "      <th>Indicator Name</th>\n",
       "      <th>Long definition</th>\n",
       "    </tr>\n",
       "  </thead>\n",
       "  <tbody>\n",
       "    <tr>\n",
       "      <th>0</th>\n",
       "      <td>NW.HCA.TO</td>\n",
       "      <td>Human capital</td>\n",
       "      <td>Human capital (constant 2018 US$)</td>\n",
       "      <td>Human capital is computed as the present value...</td>\n",
       "    </tr>\n",
       "    <tr>\n",
       "      <th>1</th>\n",
       "      <td>NW.HCA.PC</td>\n",
       "      <td>Human capital</td>\n",
       "      <td>Human capital per capita (constant 2018 US$)</td>\n",
       "      <td>Human capital is computed as the present value...</td>\n",
       "    </tr>\n",
       "    <tr>\n",
       "      <th>2</th>\n",
       "      <td>NW.HCA.FEMP.PC</td>\n",
       "      <td>Human capital</td>\n",
       "      <td>Human capital per capita, employed female (con...</td>\n",
       "      <td>Human capital is computed as the present value...</td>\n",
       "    </tr>\n",
       "    <tr>\n",
       "      <th>3</th>\n",
       "      <td>NW.HCA.MEMP.PC</td>\n",
       "      <td>Human capital</td>\n",
       "      <td>Human capital per capita, employed male (const...</td>\n",
       "      <td>Human capital is computed as the present value...</td>\n",
       "    </tr>\n",
       "    <tr>\n",
       "      <th>4</th>\n",
       "      <td>NW.HCA.FEMA.PC</td>\n",
       "      <td>Human capital</td>\n",
       "      <td>Human capital per capita, female (constant 201...</td>\n",
       "      <td>Human capital is computed as the present value...</td>\n",
       "    </tr>\n",
       "  </tbody>\n",
       "</table>\n",
       "</div>"
      ],
      "text/plain": [
       "      Series Code          Topic  \\\n",
       "0       NW.HCA.TO  Human capital   \n",
       "1       NW.HCA.PC  Human capital   \n",
       "2  NW.HCA.FEMP.PC  Human capital   \n",
       "3  NW.HCA.MEMP.PC  Human capital   \n",
       "4  NW.HCA.FEMA.PC  Human capital   \n",
       "\n",
       "                                      Indicator Name  \\\n",
       "0                  Human capital (constant 2018 US$)   \n",
       "1       Human capital per capita (constant 2018 US$)   \n",
       "2  Human capital per capita, employed female (con...   \n",
       "3  Human capital per capita, employed male (const...   \n",
       "4  Human capital per capita, female (constant 201...   \n",
       "\n",
       "                                     Long definition  \n",
       "0  Human capital is computed as the present value...  \n",
       "1  Human capital is computed as the present value...  \n",
       "2  Human capital is computed as the present value...  \n",
       "3  Human capital is computed as the present value...  \n",
       "4  Human capital is computed as the present value...  "
      ]
     },
     "execution_count": 23,
     "metadata": {},
     "output_type": "execute_result"
    }
   ],
   "source": [
    "accounts_series.head()"
   ]
  },
  {
   "cell_type": "markdown",
   "id": "7f973389",
   "metadata": {},
   "source": [
    "# 4. Database and tables"
   ]
  },
  {
   "cell_type": "markdown",
   "id": "02fa2b0c",
   "metadata": {},
   "source": [
    "## Creating the database with our functions."
   ]
  },
  {
   "cell_type": "code",
   "execution_count": 24,
   "id": "93d6b661",
   "metadata": {},
   "outputs": [],
   "source": [
    "cur, conn = create_database()"
   ]
  },
  {
   "cell_type": "markdown",
   "id": "172710ec",
   "metadata": {},
   "source": [
    "## Creating our first table 'accountscountry'."
   ]
  },
  {
   "cell_type": "code",
   "execution_count": 25,
   "id": "511bf301",
   "metadata": {},
   "outputs": [],
   "source": [
    "songplay_table_create = (\"\"\"CREATE TABLE IF NOT EXISTS accountscountry(\n",
    "country_code VARCHAR PRIMARY KEY,\n",
    "short_name VARCHAR,\n",
    "table_name VARCHAR,\n",
    "long_name VARCHAR,\n",
    "currency_unit VARCHAR\n",
    ")\"\"\")"
   ]
  },
  {
   "cell_type": "code",
   "execution_count": 26,
   "id": "d1feccc4",
   "metadata": {},
   "outputs": [],
   "source": [
    "cur.execute(songplay_table_create)\n",
    "conn.commit()"
   ]
  },
  {
   "cell_type": "markdown",
   "id": "775e3f5a",
   "metadata": {},
   "source": [
    "## Creating our second table 'accountsdata'."
   ]
  },
  {
   "cell_type": "code",
   "execution_count": 27,
   "id": "6f2cb97a",
   "metadata": {},
   "outputs": [],
   "source": [
    "accounts_data_table_create = (\"\"\"CREATE TABLE IF NOT EXISTS accountsdata(\n",
    "country_name VARCHAR,\n",
    "country_code VARCHAR,\n",
    "series_name VARCHAR,\n",
    "series_code VARCHAR,\n",
    "year_1995 NUMERIC,\n",
    "year_1996 NUMERIC,\n",
    "year_1997 NUMERIC,\n",
    "year_1998 NUMERIC\n",
    ")\"\"\")"
   ]
  },
  {
   "cell_type": "code",
   "execution_count": 28,
   "id": "59ed1b32",
   "metadata": {},
   "outputs": [],
   "source": [
    "cur.execute(accounts_data_table_create)\n",
    "conn.commit()"
   ]
  },
  {
   "cell_type": "markdown",
   "id": "9e86257c",
   "metadata": {},
   "source": [
    "## Creating our third table 'accountseries'."
   ]
  },
  {
   "cell_type": "code",
   "execution_count": 29,
   "id": "66dc10d4",
   "metadata": {},
   "outputs": [],
   "source": [
    "accountseries_data_table_create = (\"\"\"CREATE TABLE IF NOT EXISTS accountseries(\n",
    "series_code VARCHAR,\n",
    "topic VARCHAR,\n",
    "indicator_name VARCHAR,\n",
    "long_definition VARCHAR\n",
    ")\"\"\")"
   ]
  },
  {
   "cell_type": "code",
   "execution_count": null,
   "id": "d41ef65e",
   "metadata": {},
   "outputs": [],
   "source": [
    "cur.execute(accountseries_data_table_create)\n",
    "conn.commit()"
   ]
  },
  {
   "cell_type": "markdown",
   "id": "ee3b75b0",
   "metadata": {},
   "source": [
    "# 5. Filling"
   ]
  },
  {
   "cell_type": "markdown",
   "id": "dd886d25",
   "metadata": {},
   "source": [
    "## Filling our first table."
   ]
  },
  {
   "cell_type": "code",
   "execution_count": 31,
   "id": "3553fc29",
   "metadata": {},
   "outputs": [],
   "source": [
    "accounts_country_table_insert = (\"\"\"INSERT INTO accountscountry(\n",
    "country_code,\n",
    "short_name,\n",
    "table_name,\n",
    "long_name,\n",
    "currency_unit)\n",
    "VALUES(%s, %s, %s, %s, %s)\n",
    "\"\"\")"
   ]
  },
  {
   "cell_type": "code",
   "execution_count": 32,
   "id": "8f142079",
   "metadata": {},
   "outputs": [],
   "source": [
    "for i, row in accounts_country.iterrows():\n",
    "    cur.execute(accounts_country_table_insert, list(row))"
   ]
  },
  {
   "cell_type": "markdown",
   "id": "d96d91db",
   "metadata": {},
   "source": [
    "## Filling our second table."
   ]
  },
  {
   "cell_type": "code",
   "execution_count": 33,
   "id": "872cc458",
   "metadata": {},
   "outputs": [],
   "source": [
    "accounts_data_table_insert = (\"\"\"INSERT INTO accountsdata(\n",
    "country_name,\n",
    "country_code,\n",
    "series_name,\n",
    "series_code,\n",
    "year_1995,\n",
    "year_1996,\n",
    "year_1997,\n",
    "year_1998)\n",
    "VALUES (%s, %s, %s, %s, %s, %s, %s, %s)\n",
    "\"\"\")"
   ]
  },
  {
   "cell_type": "code",
   "execution_count": 34,
   "id": "036db90e",
   "metadata": {},
   "outputs": [],
   "source": [
    "for i, row in accounts_data.iterrows():\n",
    "    cur.execute(accounts_data_table_insert, list(row))"
   ]
  },
  {
   "cell_type": "markdown",
   "id": "4b06f1f9",
   "metadata": {},
   "source": [
    "## Filling our third table."
   ]
  },
  {
   "cell_type": "code",
   "execution_count": 35,
   "id": "f83aa9da",
   "metadata": {},
   "outputs": [],
   "source": [
    "accounts_series_data_table_insert = (\"\"\"INSERT INTO accountseries(\n",
    "series_code,\n",
    "topic,\n",
    "indicator_name,\n",
    "long_definition)\n",
    "VALUES (%s, %s, %s, %s)\n",
    "\"\"\")"
   ]
  },
  {
   "cell_type": "code",
   "execution_count": 37,
   "id": "a558d809",
   "metadata": {},
   "outputs": [],
   "source": [
    "for i, row in accounts_series.iterrows():\n",
    "    cur.execute(accounts_series_data_table_insert, list(row))"
   ]
  },
  {
   "cell_type": "markdown",
   "id": "127b9052",
   "metadata": {},
   "source": [
    "# 6. Commiting"
   ]
  },
  {
   "cell_type": "markdown",
   "id": "731d09ce",
   "metadata": {},
   "source": [
    "## Commiting our changes."
   ]
  },
  {
   "cell_type": "code",
   "execution_count": 38,
   "id": "ed38303f",
   "metadata": {},
   "outputs": [],
   "source": [
    "conn.commit()   #conn.set_session(autocommit=True)    (If we want to set automatic commit)"
   ]
  }
 ],
 "metadata": {
  "kernelspec": {
   "display_name": "Python 3 (ipykernel)",
   "language": "python",
   "name": "python3"
  },
  "language_info": {
   "codemirror_mode": {
    "name": "ipython",
    "version": 3
   },
   "file_extension": ".py",
   "mimetype": "text/x-python",
   "name": "python",
   "nbconvert_exporter": "python",
   "pygments_lexer": "ipython3",
   "version": "3.9.12"
  }
 },
 "nbformat": 4,
 "nbformat_minor": 5
}
